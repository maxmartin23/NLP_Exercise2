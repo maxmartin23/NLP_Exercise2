{
  "cells": [
    {
      "cell_type": "code",
      "execution_count": 1,
      "metadata": {
        "id": "oDj3-orSx9Pt"
      },
      "outputs": [],
      "source": [
        "import numpy as np\n",
        "import pandas as pd\n",
        "import gzip\n",
        "from functools import reduce\n",
        "from operator import iconcat\n",
        "from sklearn.feature_extraction.text import TfidfVectorizer\n",
        "from sklearn.metrics.pairwise import linear_kernel"
      ]
    },
    {
      "cell_type": "code",
      "execution_count": 2,
      "metadata": {
        "id": "hNCxH7b3TFsC"
      },
      "outputs": [],
      "source": [
        "#Here I used gzip library to get the dataset from the gzipped JSON file\n",
        "def parse(path):\n",
        "  g = gzip.open(path, 'rb')\n",
        "  for l in g:\n",
        "    yield eval(l)\n",
        "\n",
        "def getDF(path):\n",
        "  i = 0\n",
        "  df = {}\n",
        "  for d in parse(path):\n",
        "    df[i] = d\n",
        "    i += 1\n",
        "  return pd.DataFrame.from_dict(df, orient='index')\n",
        "\n",
        "df_orig = getDF('meta_Digital_Music.json.gz')"
      ]
    },
    {
      "cell_type": "code",
      "execution_count": 3,
      "metadata": {
        "id": "iqmFG4338oAg"
      },
      "outputs": [],
      "source": [
        "#Then I took only the relevant columns\n",
        "df = df_orig[[\"title\", \"categories\", \"description\"]]"
      ]
    },
    {
      "cell_type": "code",
      "execution_count": 4,
      "metadata": {
        "id": "TQumVUbdRPts"
      },
      "outputs": [],
      "source": [
        "#I defined a function to get the list of genres of a song so we can use it for recommendations just in case there's no description\n",
        "#I excluded the categories CD's & Vinyl and Digital Music because they're not very descriptive\n",
        "def get_genres(categories):\n",
        "    categories_to_exclude = [\"CDs & Vinyl\", \"Digital Music\"]\n",
        "    categories_flatten = list(set(filter(lambda category: category not in categories_to_exclude,reduce(iconcat, categories, []))))\n",
        "    return reduce(lambda acc, cur: acc + cur + \", \", categories_flatten, \"\")[:-2]"
      ]
    },
    {
      "cell_type": "code",
      "execution_count": 5,
      "metadata": {
        "id": "us1tWYgiVVS-"
      },
      "outputs": [],
      "source": [
        "#I added the genres to the rows where there's no description\n",
        "for index, row in df.iterrows():\n",
        "    if(str(row[\"description\"]) == \"nan\" or row[\"description\"] == \"\"):\n",
        "        row[\"description\"] = get_genres(row[\"categories\"])"
      ]
    },
    {
      "cell_type": "code",
      "execution_count": 6,
      "metadata": {
        "id": "FElLOZugViF6"
      },
      "outputs": [],
      "source": [
        "#Now we can drop the categories column as well as rows with no title\n",
        "df = df[[\"title\", \"description\"]]\n",
        "df = df[df['title'] != '']\n",
        "df = df[~df['title'].isna()]"
      ]
    },
    {
      "cell_type": "code",
      "execution_count": 7,
      "metadata": {
        "id": "39z0vjj-aZV_"
      },
      "outputs": [],
      "source": [
        "#I used an instance of TfidfVectorizer to get the TF-IDF matrix of the song descriptions\n",
        "tfidf = TfidfVectorizer(stop_words='english')\n",
        "tfidf_matrix = tfidf.fit_transform(df['description'])"
      ]
    },
    {
      "cell_type": "code",
      "execution_count": 8,
      "metadata": {
        "colab": {
          "base_uri": "https://localhost:8080/"
        },
        "id": "exZZ1tksak57",
        "outputId": "6821f8dd-09e3-46d1-ddde-c7e8099d39c0"
      },
      "outputs": [
        {
          "data": {
            "text/plain": [
              "(7321, 32848)"
            ]
          },
          "execution_count": 8,
          "metadata": {},
          "output_type": "execute_result"
        }
      ],
      "source": [
        "tfidf_matrix.shape"
      ]
    },
    {
      "cell_type": "code",
      "execution_count": 9,
      "metadata": {
        "id": "py9YGm-iannc"
      },
      "outputs": [],
      "source": [
        "#I then used linear_kernel to get the similarity matrix of our TF-IDF matrix\n",
        "cosine_sim = linear_kernel(tfidf_matrix, tfidf_matrix)\n",
        "#Unfortunately this requires almost 600GB of RAM, so I can't use it"
      ]
    }
  ],
  "metadata": {
    "colab": {
      "name": "Untitled2.ipynb",
      "provenance": []
    },
    "kernelspec": {
      "display_name": "Python 3",
      "name": "python3"
    },
    "language_info": {
      "codemirror_mode": {
        "name": "ipython",
        "version": 3
      },
      "file_extension": ".py",
      "mimetype": "text/x-python",
      "name": "python",
      "nbconvert_exporter": "python",
      "pygments_lexer": "ipython3",
      "version": "3.9.6"
    }
  },
  "nbformat": 4,
  "nbformat_minor": 0
}
