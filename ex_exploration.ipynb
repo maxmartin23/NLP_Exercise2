{
 "cells": [
  {
   "cell_type": "code",
   "execution_count": 1,
   "metadata": {},
   "outputs": [
    {
     "name": "stdout",
     "output_type": "stream",
     "text": [
      "         asin                  title  price  \\\n",
      "0  5555991584        Memory of Trees   9.49   \n",
      "1  6308051551  Don't Drink His Blood   8.91   \n",
      "2  7901622466                On Fire  11.33   \n",
      "3  B0000000ZW         Changing Faces  23.64   \n",
      "4  B00000016W             Pet Sounds   9.49   \n",
      "\n",
      "                                               imUrl  \\\n",
      "0  http://ecx.images-amazon.com/images/I/51b5WDjd...   \n",
      "1  http://ecx.images-amazon.com/images/I/31LT2n7Q...   \n",
      "2  http://ecx.images-amazon.com/images/I/21W29WZw...   \n",
      "3  http://ecx.images-amazon.com/images/I/51H3Bp-3...   \n",
      "4  http://ecx.images-amazon.com/images/I/51pDGkXj...   \n",
      "\n",
      "                                             related          salesRank  \\\n",
      "0  {'also_bought': ['B000002LRT', 'B000002LRR', '...  {'Music': 939190}   \n",
      "1                                                NaN                NaN   \n",
      "2  {'also_bought': ['B00000282A', 'B0084O8O9S', '...   {'Music': 58799}   \n",
      "3  {'also_bought': ['B00000010Z', 'B0000039Q5', '...   {'Music': 68784}   \n",
      "4  {'also_bought': ['B0025KVLTM', 'B00007FOMP', '...   {'Music': 77205}   \n",
      "\n",
      "                                          categories  \\\n",
      "0  [[CDs & Vinyl, New Age, Celtic New Age], [CDs ...   \n",
      "1  [[Digital Music, Alternative Rock, Indie & Lo-...   \n",
      "2  [[CDs & Vinyl, Christian, Rock & Alternative],...   \n",
      "3  [[CDs & Vinyl, Dance & Electronic], [CDs & Vin...   \n",
      "4  [[CDs & Vinyl, Classic Rock], [CDs & Vinyl, Po...   \n",
      "\n",
      "                          description brand  \n",
      "0                                 NaN   NaN  \n",
      "1  NEW Combo BLUWAVS CD and FLAC FILE   NaN  \n",
      "2                                 NaN   NaN  \n",
      "3                                            \n",
      "4                                 NaN   NaN  \n"
     ]
    }
   ],
   "source": [
    "import numpy as np\n",
    "import pandas as pd\n",
    "import gzip\n",
    "\n",
    "def parse(path):\n",
    "  g = gzip.open(path, 'rb')\n",
    "  for l in g:\n",
    "    yield eval(l)\n",
    "\n",
    "def getDF(path):\n",
    "  i = 0\n",
    "  df = {}\n",
    "  for d in parse(path):\n",
    "    df[i] = d\n",
    "    i += 1\n",
    "  return pd.DataFrame.from_dict(df, orient='index')\n",
    "\n",
    "df = getDF('meta_Digital_Music.json.gz')\n",
    "\n",
    "print(df.head())    "
   ]
  },
  {
   "cell_type": "code",
   "execution_count": 2,
   "metadata": {},
   "outputs": [
    {
     "name": "stdout",
     "output_type": "stream",
     "text": [
      "Dataset has 279899 records\n",
      "Dataset has 279899 distinct records\n",
      "Dataset has 272295 rows with null description\n",
      "Dataset has 1199 rows with empty description\n"
     ]
    }
   ],
   "source": [
    "print(f\"Dataset has {len(df)} records\")\n",
    "#get distinct asin \n",
    "print(f\"Dataset has {len(df['asin'].unique())} distinct records\")\n",
    "\n",
    "#get rows with na in description\n",
    "print(f\"Dataset has {len(df[df['description'].isnull()])} rows with null description\")\n",
    "print(f\"Dataset has {len(df[df['description'] == ''])} rows with empty description\")\n",
    "\n"
   ]
  }
 ],
 "metadata": {
  "interpreter": {
   "hash": "855e7b4e8c1fd70a363a579fc14bc35ab5f53d27fa5c2f38df2f0a41adda5b16"
  },
  "kernelspec": {
   "display_name": "Python 3.9.12 64-bit (windows store)",
   "language": "python",
   "name": "python3"
  },
  "language_info": {
   "codemirror_mode": {
    "name": "ipython",
    "version": 3
   },
   "file_extension": ".py",
   "mimetype": "text/x-python",
   "name": "python",
   "nbconvert_exporter": "python",
   "pygments_lexer": "ipython3",
   "version": "3.9.12"
  },
  "orig_nbformat": 4
 },
 "nbformat": 4,
 "nbformat_minor": 2
}
