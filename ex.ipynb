{
 "cells": [
  {
   "cell_type": "code",
   "execution_count": 1,
   "metadata": {},
   "outputs": [],
   "source": [
    "import numpy as np\n",
    "import pandas as pd\n",
    "import gzip\n",
    "from sklearn.feature_extraction.text import TfidfVectorizer\n",
    "import json"
   ]
  },
  {
   "cell_type": "code",
   "execution_count": 2,
   "metadata": {},
   "outputs": [],
   "source": [
    "import numpy as np\n",
    "import pandas as pd\n",
    "import gzip\n",
    "\n",
    "def parse(path):\n",
    "  g = gzip.open(path, 'rb')\n",
    "  for l in g:\n",
    "    yield eval(l)\n",
    "\n",
    "def getDF(path):\n",
    "  i = 0\n",
    "  df = {}\n",
    "  for d in parse(path):\n",
    "    df[i] = d\n",
    "    i += 1\n",
    "  return pd.DataFrame.from_dict(df, orient='index')\n",
    "\n",
    "df_orig = getDF('meta_Digital_Music.json.gz')"
   ]
  },
  {
   "cell_type": "code",
   "execution_count": 3,
   "metadata": {},
   "outputs": [
    {
     "data": {
      "text/html": [
       "<div>\n",
       "<style scoped>\n",
       "    .dataframe tbody tr th:only-of-type {\n",
       "        vertical-align: middle;\n",
       "    }\n",
       "\n",
       "    .dataframe tbody tr th {\n",
       "        vertical-align: top;\n",
       "    }\n",
       "\n",
       "    .dataframe thead th {\n",
       "        text-align: right;\n",
       "    }\n",
       "</style>\n",
       "<table border=\"1\" class=\"dataframe\">\n",
       "  <thead>\n",
       "    <tr style=\"text-align: right;\">\n",
       "      <th></th>\n",
       "      <th>asin</th>\n",
       "      <th>title</th>\n",
       "      <th>price</th>\n",
       "      <th>imUrl</th>\n",
       "      <th>related</th>\n",
       "      <th>salesRank</th>\n",
       "      <th>categories</th>\n",
       "      <th>description</th>\n",
       "      <th>brand</th>\n",
       "    </tr>\n",
       "  </thead>\n",
       "  <tbody>\n",
       "    <tr>\n",
       "      <th>0</th>\n",
       "      <td>5555991584</td>\n",
       "      <td>Memory of Trees</td>\n",
       "      <td>9.49</td>\n",
       "      <td>http://ecx.images-amazon.com/images/I/51b5WDjd...</td>\n",
       "      <td>{'also_bought': ['B000002LRT', 'B000002LRR', '...</td>\n",
       "      <td>{'Music': 939190}</td>\n",
       "      <td>[[CDs &amp; Vinyl, New Age, Celtic New Age], [CDs ...</td>\n",
       "      <td>NaN</td>\n",
       "      <td>NaN</td>\n",
       "    </tr>\n",
       "    <tr>\n",
       "      <th>1</th>\n",
       "      <td>6308051551</td>\n",
       "      <td>Don't Drink His Blood</td>\n",
       "      <td>8.91</td>\n",
       "      <td>http://ecx.images-amazon.com/images/I/31LT2n7Q...</td>\n",
       "      <td>NaN</td>\n",
       "      <td>NaN</td>\n",
       "      <td>[[Digital Music, Alternative Rock, Indie &amp; Lo-...</td>\n",
       "      <td>NEW Combo BLUWAVS CD and FLAC FILE</td>\n",
       "      <td>NaN</td>\n",
       "    </tr>\n",
       "    <tr>\n",
       "      <th>2</th>\n",
       "      <td>7901622466</td>\n",
       "      <td>On Fire</td>\n",
       "      <td>11.33</td>\n",
       "      <td>http://ecx.images-amazon.com/images/I/21W29WZw...</td>\n",
       "      <td>{'also_bought': ['B00000282A', 'B0084O8O9S', '...</td>\n",
       "      <td>{'Music': 58799}</td>\n",
       "      <td>[[CDs &amp; Vinyl, Christian, Rock &amp; Alternative],...</td>\n",
       "      <td>NaN</td>\n",
       "      <td>NaN</td>\n",
       "    </tr>\n",
       "    <tr>\n",
       "      <th>3</th>\n",
       "      <td>B0000000ZW</td>\n",
       "      <td>Changing Faces</td>\n",
       "      <td>23.64</td>\n",
       "      <td>http://ecx.images-amazon.com/images/I/51H3Bp-3...</td>\n",
       "      <td>{'also_bought': ['B00000010Z', 'B0000039Q5', '...</td>\n",
       "      <td>{'Music': 68784}</td>\n",
       "      <td>[[CDs &amp; Vinyl, Dance &amp; Electronic], [CDs &amp; Vin...</td>\n",
       "      <td></td>\n",
       "      <td></td>\n",
       "    </tr>\n",
       "    <tr>\n",
       "      <th>4</th>\n",
       "      <td>B00000016W</td>\n",
       "      <td>Pet Sounds</td>\n",
       "      <td>9.49</td>\n",
       "      <td>http://ecx.images-amazon.com/images/I/51pDGkXj...</td>\n",
       "      <td>{'also_bought': ['B0025KVLTM', 'B00007FOMP', '...</td>\n",
       "      <td>{'Music': 77205}</td>\n",
       "      <td>[[CDs &amp; Vinyl, Classic Rock], [CDs &amp; Vinyl, Po...</td>\n",
       "      <td>NaN</td>\n",
       "      <td>NaN</td>\n",
       "    </tr>\n",
       "  </tbody>\n",
       "</table>\n",
       "</div>"
      ],
      "text/plain": [
       "         asin                  title  price  \\\n",
       "0  5555991584        Memory of Trees   9.49   \n",
       "1  6308051551  Don't Drink His Blood   8.91   \n",
       "2  7901622466                On Fire  11.33   \n",
       "3  B0000000ZW         Changing Faces  23.64   \n",
       "4  B00000016W             Pet Sounds   9.49   \n",
       "\n",
       "                                               imUrl  \\\n",
       "0  http://ecx.images-amazon.com/images/I/51b5WDjd...   \n",
       "1  http://ecx.images-amazon.com/images/I/31LT2n7Q...   \n",
       "2  http://ecx.images-amazon.com/images/I/21W29WZw...   \n",
       "3  http://ecx.images-amazon.com/images/I/51H3Bp-3...   \n",
       "4  http://ecx.images-amazon.com/images/I/51pDGkXj...   \n",
       "\n",
       "                                             related          salesRank  \\\n",
       "0  {'also_bought': ['B000002LRT', 'B000002LRR', '...  {'Music': 939190}   \n",
       "1                                                NaN                NaN   \n",
       "2  {'also_bought': ['B00000282A', 'B0084O8O9S', '...   {'Music': 58799}   \n",
       "3  {'also_bought': ['B00000010Z', 'B0000039Q5', '...   {'Music': 68784}   \n",
       "4  {'also_bought': ['B0025KVLTM', 'B00007FOMP', '...   {'Music': 77205}   \n",
       "\n",
       "                                          categories  \\\n",
       "0  [[CDs & Vinyl, New Age, Celtic New Age], [CDs ...   \n",
       "1  [[Digital Music, Alternative Rock, Indie & Lo-...   \n",
       "2  [[CDs & Vinyl, Christian, Rock & Alternative],...   \n",
       "3  [[CDs & Vinyl, Dance & Electronic], [CDs & Vin...   \n",
       "4  [[CDs & Vinyl, Classic Rock], [CDs & Vinyl, Po...   \n",
       "\n",
       "                          description brand  \n",
       "0                                 NaN   NaN  \n",
       "1  NEW Combo BLUWAVS CD and FLAC FILE   NaN  \n",
       "2                                 NaN   NaN  \n",
       "3                                            \n",
       "4                                 NaN   NaN  "
      ]
     },
     "execution_count": 3,
     "metadata": {},
     "output_type": "execute_result"
    }
   ],
   "source": [
    "df_orig.head()"
   ]
  },
  {
   "cell_type": "code",
   "execution_count": 4,
   "metadata": {},
   "outputs": [],
   "source": [
    "df = df_orig[[\"title\", \"description\"]]"
   ]
  },
  {
   "cell_type": "code",
   "execution_count": 5,
   "metadata": {},
   "outputs": [],
   "source": [
    "#drop rows with null descriptions\n",
    "df = df.dropna(axis=0, subset=['description'])\n",
    "#drop rows with empty descriptions\n",
    "df = df[df['description'] != '']\n",
    "#Drop rows with no title or nan title\n",
    "df = df[df['title'] != '']\n",
    "df = df[~df['title'].isna()]\n",
    "#drop duplicate titles\n",
    "df = df.drop_duplicates(subset=['title'])\n",
    "#reset index\n",
    "df = df.reset_index(drop=True)"
   ]
  },
  {
   "cell_type": "code",
   "execution_count": 6,
   "metadata": {},
   "outputs": [
    {
     "data": {
      "text/html": [
       "<div>\n",
       "<style scoped>\n",
       "    .dataframe tbody tr th:only-of-type {\n",
       "        vertical-align: middle;\n",
       "    }\n",
       "\n",
       "    .dataframe tbody tr th {\n",
       "        vertical-align: top;\n",
       "    }\n",
       "\n",
       "    .dataframe thead th {\n",
       "        text-align: right;\n",
       "    }\n",
       "</style>\n",
       "<table border=\"1\" class=\"dataframe\">\n",
       "  <thead>\n",
       "    <tr style=\"text-align: right;\">\n",
       "      <th></th>\n",
       "      <th>title</th>\n",
       "      <th>description</th>\n",
       "    </tr>\n",
       "  </thead>\n",
       "  <tbody>\n",
       "    <tr>\n",
       "      <th>0</th>\n",
       "      <td>Don't Drink His Blood</td>\n",
       "      <td>NEW Combo BLUWAVS CD and FLAC FILE</td>\n",
       "    </tr>\n",
       "    <tr>\n",
       "      <th>1</th>\n",
       "      <td>Harry</td>\n",
       "      <td>A 1969 collection of songs about innocence, ex...</td>\n",
       "    </tr>\n",
       "    <tr>\n",
       "      <th>2</th>\n",
       "      <td>Soulero</td>\n",
       "      <td>Soulero by Kenny BurrellThis product is manufa...</td>\n",
       "    </tr>\n",
       "    <tr>\n",
       "      <th>3</th>\n",
       "      <td>Ivory Pyramid</td>\n",
       "      <td>Ivory Pyramid by Ramsey LewisThis product is m...</td>\n",
       "    </tr>\n",
       "    <tr>\n",
       "      <th>4</th>\n",
       "      <td>That Secret Place</td>\n",
       "      <td>That Secret Place by Patti AustinThis product ...</td>\n",
       "    </tr>\n",
       "  </tbody>\n",
       "</table>\n",
       "</div>"
      ],
      "text/plain": [
       "                   title                                        description\n",
       "0  Don't Drink His Blood                 NEW Combo BLUWAVS CD and FLAC FILE\n",
       "1                  Harry  A 1969 collection of songs about innocence, ex...\n",
       "2                Soulero  Soulero by Kenny BurrellThis product is manufa...\n",
       "3          Ivory Pyramid  Ivory Pyramid by Ramsey LewisThis product is m...\n",
       "4      That Secret Place  That Secret Place by Patti AustinThis product ..."
      ]
     },
     "execution_count": 6,
     "metadata": {},
     "output_type": "execute_result"
    }
   ],
   "source": [
    "df.head()"
   ]
  },
  {
   "cell_type": "code",
   "execution_count": 7,
   "metadata": {},
   "outputs": [],
   "source": [
    "tfidf = TfidfVectorizer(stop_words='english')"
   ]
  },
  {
   "cell_type": "code",
   "execution_count": 8,
   "metadata": {},
   "outputs": [],
   "source": [
    "tfidf_matrix = tfidf.fit_transform(df['description'])"
   ]
  },
  {
   "cell_type": "code",
   "execution_count": 9,
   "metadata": {},
   "outputs": [
    {
     "data": {
      "text/plain": [
       "(4333, 32412)"
      ]
     },
     "execution_count": 9,
     "metadata": {},
     "output_type": "execute_result"
    }
   ],
   "source": [
    "tfidf_matrix.shape"
   ]
  },
  {
   "cell_type": "code",
   "execution_count": 10,
   "metadata": {},
   "outputs": [],
   "source": [
    "from sklearn.metrics.pairwise import linear_kernel"
   ]
  },
  {
   "cell_type": "code",
   "execution_count": 11,
   "metadata": {},
   "outputs": [],
   "source": [
    "cosine_sim = linear_kernel(tfidf_matrix, tfidf_matrix)"
   ]
  },
  {
   "cell_type": "code",
   "execution_count": 12,
   "metadata": {},
   "outputs": [
    {
     "name": "stdout",
     "output_type": "stream",
     "text": [
      "<class 'numpy.ndarray'>\n",
      "0.9999999999999999\n"
     ]
    }
   ],
   "source": [
    "print(type(cosine_sim))\n",
    "print(cosine_sim[1,1])"
   ]
  },
  {
   "cell_type": "code",
   "execution_count": 13,
   "metadata": {},
   "outputs": [],
   "source": [
    "indices = pd.Series(df.index, index=df['title']).drop_duplicates(inplace=False)"
   ]
  },
  {
   "cell_type": "code",
   "execution_count": 14,
   "metadata": {},
   "outputs": [],
   "source": [
    "df.to_json(\"dataset.json\")"
   ]
  },
  {
   "cell_type": "code",
   "execution_count": 15,
   "metadata": {},
   "outputs": [],
   "source": [
    "#I made a custom class that can serialize our n-dimensional array\n",
    "class NumpyEncoder(json.JSONEncoder):\n",
    "    def default(self, obj):\n",
    "        if isinstance(obj, np.ndarray):\n",
    "            return obj.tolist()\n",
    "        return json.JSONEncoder.default(self, obj)"
   ]
  },
  {
   "cell_type": "code",
   "execution_count": 16,
   "metadata": {},
   "outputs": [],
   "source": [
    "recommendation_data = {\n",
    "  \"matrix\": cosine_sim,\n",
    "  \"indices\": indices.to_dict()\n",
    "}"
   ]
  },
  {
   "cell_type": "code",
   "execution_count": 17,
   "metadata": {},
   "outputs": [],
   "source": [
    "with open('recommendation_data.json', 'w') as file:\n",
    "    file.write(json.dumps(recommendation_data, cls=NumpyEncoder))"
   ]
  },
  {
   "cell_type": "code",
   "execution_count": 18,
   "metadata": {},
   "outputs": [
    {
     "data": {
      "text/html": [
       "<div>\n",
       "<style scoped>\n",
       "    .dataframe tbody tr th:only-of-type {\n",
       "        vertical-align: middle;\n",
       "    }\n",
       "\n",
       "    .dataframe tbody tr th {\n",
       "        vertical-align: top;\n",
       "    }\n",
       "\n",
       "    .dataframe thead th {\n",
       "        text-align: right;\n",
       "    }\n",
       "</style>\n",
       "<table border=\"1\" class=\"dataframe\">\n",
       "  <thead>\n",
       "    <tr style=\"text-align: right;\">\n",
       "      <th></th>\n",
       "      <th>title</th>\n",
       "      <th>description</th>\n",
       "    </tr>\n",
       "  </thead>\n",
       "  <tbody>\n",
       "    <tr>\n",
       "      <th>0</th>\n",
       "      <td>Don't Drink His Blood</td>\n",
       "      <td>NEW Combo BLUWAVS CD and FLAC FILE</td>\n",
       "    </tr>\n",
       "    <tr>\n",
       "      <th>1</th>\n",
       "      <td>Harry</td>\n",
       "      <td>A 1969 collection of songs about innocence, ex...</td>\n",
       "    </tr>\n",
       "    <tr>\n",
       "      <th>2</th>\n",
       "      <td>Soulero</td>\n",
       "      <td>Soulero by Kenny BurrellThis product is manufa...</td>\n",
       "    </tr>\n",
       "    <tr>\n",
       "      <th>3</th>\n",
       "      <td>Ivory Pyramid</td>\n",
       "      <td>Ivory Pyramid by Ramsey LewisThis product is m...</td>\n",
       "    </tr>\n",
       "    <tr>\n",
       "      <th>4</th>\n",
       "      <td>That Secret Place</td>\n",
       "      <td>That Secret Place by Patti AustinThis product ...</td>\n",
       "    </tr>\n",
       "  </tbody>\n",
       "</table>\n",
       "</div>"
      ],
      "text/plain": [
       "                   title                                        description\n",
       "0  Don't Drink His Blood                 NEW Combo BLUWAVS CD and FLAC FILE\n",
       "1                  Harry  A 1969 collection of songs about innocence, ex...\n",
       "2                Soulero  Soulero by Kenny BurrellThis product is manufa...\n",
       "3          Ivory Pyramid  Ivory Pyramid by Ramsey LewisThis product is m...\n",
       "4      That Secret Place  That Secret Place by Patti AustinThis product ..."
      ]
     },
     "execution_count": 18,
     "metadata": {},
     "output_type": "execute_result"
    }
   ],
   "source": [
    "df.head()"
   ]
  },
  {
   "cell_type": "code",
   "execution_count": 19,
   "metadata": {},
   "outputs": [],
   "source": [
    "def content_recommender(title, cosine_sim=cosine_sim, df=df, indices=indices):\n",
    "    idx = indices[title]\n",
    "    sim_scores = list(enumerate(cosine_sim[idx]))\n",
    "    sim_scores = sorted(sim_scores, key=lambda x: x[1], reverse=True)\n",
    "    sim_scores = sim_scores[1:11]\n",
    "    song_indices = [i[0] for i in sim_scores]\n",
    "    return df['title'].iloc[song_indices]"
   ]
  },
  {
   "cell_type": "code",
   "execution_count": 20,
   "metadata": {},
   "outputs": [
    {
     "data": {
      "text/plain": [
       "1411                                          Antidote\n",
       "3049                                         Funkytown\n",
       "648                               Hearts &amp; Flowers\n",
       "711                                       Looking East\n",
       "1679                                      Garden Party\n",
       "2950    Grand Theft Auto: Vice City, Vol. 4 - Flash FM\n",
       "935                                          This Time\n",
       "1364                                          Palomine\n",
       "1875                                Acrobatic Tenement\n",
       "1163               The Pointer Sisters - Greatest Hits\n",
       "Name: title, dtype: object"
      ]
     },
     "execution_count": 20,
     "metadata": {},
     "output_type": "execute_result"
    }
   ],
   "source": [
    "content_recommender(\"Funkytown\")"
   ]
  }
 ],
 "metadata": {
  "interpreter": {
   "hash": "855e7b4e8c1fd70a363a579fc14bc35ab5f53d27fa5c2f38df2f0a41adda5b16"
  },
  "kernelspec": {
   "display_name": "Python 3.9.12 64-bit (windows store)",
   "language": "python",
   "name": "python3"
  },
  "language_info": {
   "codemirror_mode": {
    "name": "ipython",
    "version": 3
   },
   "file_extension": ".py",
   "mimetype": "text/x-python",
   "name": "python",
   "nbconvert_exporter": "python",
   "pygments_lexer": "ipython3",
   "version": "3.8.5"
  },
  "orig_nbformat": 4
 },
 "nbformat": 4,
 "nbformat_minor": 2
}
